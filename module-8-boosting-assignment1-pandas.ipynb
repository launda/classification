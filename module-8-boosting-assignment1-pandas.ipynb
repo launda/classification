{
 "cells": [
  {
   "cell_type": "markdown",
   "metadata": {},
   "source": [
    "# Exploring Ensemble Methods\n",
    "## Module 8 Boosting Assignment 1: Using pandas and sklearn Boosting Tree"
   ]
  },
  {
   "cell_type": "markdown",
   "metadata": {},
   "source": [
    "In this assignment, we will explore the use of boosting. We will use the pre-implemented gradient boosted trees in GraphLab Create. You will:\n",
    "\n",
    "* Use SFrames to do some feature engineering.\n",
    "* Train a boosted ensemble of decision-trees (gradient boosted trees) on the LendingClub dataset.\n",
    "* Predict whether a loan will default along with prediction probabilities (on a validation set).\n",
    "* Evaluate the trained model and compare it with a baseline.\n",
    "* Find the most positive and negative loans using the learned model.\n",
    "* Explore how the number of trees influences classification performance.\n",
    "\n",
    "\n",
    "### 3.2.4.3.5. [sklearn.ensemble.GradientBoostingClassifier](http://scikit-learn.org/stable/modules/generated/sklearn.ensemble.GradientBoostingClassifier.html)\n",
    "Gradient Boosting for classification.\n",
    "\n",
    "GB builds an additive model in a forward stage-wise fashion; it allows for the optimization of arbitrary differentiable loss functions. In each stage n_classes_ regression trees are fit on the negative gradient of the binomial or multinomial deviance loss function. Binary classification is a special case where only a single regression tree is induced.\n",
    "\n",
    "Boosting algorithms play a crucial role in dealing with bias variance trade-off.  Unlike bagging algorithms, which only controls for high variance in a model, boosting controls both the aspects (bias & variance), and is considered to be more effective.  A sincere understanding of GBM here should give you much needed confidence to deal with such critical issues.\n",
    "\n",
    "see also presentation by Owen Chang [here](http://nycdatascience.com/featured-talk-1-kaggle-data-scientist-owen-zhang/)  and a condensed version at [vidhya](https://www.analyticsvidhya.com/blog/2016/02/complete-guide-parameter-tuning-gradient-boosting-gbm-python/)\n",
    "## Fire up pandas"
   ]
  },
  {
   "cell_type": "code",
   "execution_count": 93,
   "metadata": {
    "collapsed": false
   },
   "outputs": [],
   "source": [
    "#Import libraries:\n",
    "import sframe as sf\n",
    "import pandas as pd\n",
    "import numpy as np\n",
    "\n",
    "#pd.canvas.set_target('ipynb')\n",
    "from __future__ import division  #ensures floating point division\n",
    "\n",
    "from sklearn.ensemble import GradientBoostingClassifier  #GBM algorithm\n",
    "from sklearn import cross_validation, metrics            #Additional scklearn functions\n",
    "from sklearn.grid_search import GridSearchCV             #Perforing grid search\n",
    "\n",
    "\n",
    "import matplotlib.pylab as plt\n",
    "%matplotlib inline\n",
    "\n",
    "from matplotlib.pylab import rcParams\n",
    "rcParams['figure.figsize'] = 12, 4"
   ]
  },
  {
   "cell_type": "markdown",
   "metadata": {},
   "source": [
    "# Load LendingClub dataset\n",
    "\n",
    "We will be using the [LendingClub](https://www.lendingclub.com/) data. As discussed earlier, the [LendingClub](https://www.lendingclub.com/) is a peer-to-peer leading company that directly connects borrowers and potential lenders/investors. \n",
    "\n",
    "Just like we did in previous assignments, we will build a classification model to predict whether or not a loan provided by lending club is likely to default.\n",
    "\n",
    "**1.** Loading the data."
   ]
  },
  {
   "cell_type": "code",
   "execution_count": 94,
   "metadata": {
    "collapsed": false
   },
   "outputs": [],
   "source": [
    "loans = sf.SFrame('../Week3/lending-club-data.gl/')\n",
    "#loans = pd.read_csv('../Week3/lending-club-data.csv')"
   ]
  },
  {
   "cell_type": "markdown",
   "metadata": {},
   "source": [
    "**2.** Let's quickly explore what the dataset looks like. First, let's print out the column names to see what features we have in this dataset. We have done this in previous assignments, so we won't belabor this here."
   ]
  },
  {
   "cell_type": "code",
   "execution_count": 95,
   "metadata": {
    "collapsed": false
   },
   "outputs": [
    {
     "name": "stdout",
     "output_type": "stream",
     "text": [
      "122607\n"
     ]
    },
    {
     "data": {
      "text/plain": [
       "['id',\n",
       " 'member_id',\n",
       " 'loan_amnt',\n",
       " 'funded_amnt',\n",
       " 'funded_amnt_inv',\n",
       " 'term',\n",
       " 'int_rate',\n",
       " 'installment',\n",
       " 'grade',\n",
       " 'sub_grade',\n",
       " 'emp_title',\n",
       " 'emp_length',\n",
       " 'home_ownership',\n",
       " 'annual_inc',\n",
       " 'is_inc_v',\n",
       " 'issue_d',\n",
       " 'loan_status',\n",
       " 'pymnt_plan',\n",
       " 'url',\n",
       " 'desc',\n",
       " 'purpose',\n",
       " 'title',\n",
       " 'zip_code',\n",
       " 'addr_state',\n",
       " 'dti',\n",
       " 'delinq_2yrs',\n",
       " 'earliest_cr_line',\n",
       " 'inq_last_6mths',\n",
       " 'mths_since_last_delinq',\n",
       " 'mths_since_last_record',\n",
       " 'open_acc',\n",
       " 'pub_rec',\n",
       " 'revol_bal',\n",
       " 'revol_util',\n",
       " 'total_acc',\n",
       " 'initial_list_status',\n",
       " 'out_prncp',\n",
       " 'out_prncp_inv',\n",
       " 'total_pymnt',\n",
       " 'total_pymnt_inv',\n",
       " 'total_rec_prncp',\n",
       " 'total_rec_int',\n",
       " 'total_rec_late_fee',\n",
       " 'recoveries',\n",
       " 'collection_recovery_fee',\n",
       " 'last_pymnt_d',\n",
       " 'last_pymnt_amnt',\n",
       " 'next_pymnt_d',\n",
       " 'last_credit_pull_d',\n",
       " 'collections_12_mths_ex_med',\n",
       " 'mths_since_last_major_derog',\n",
       " 'policy_code',\n",
       " 'not_compliant',\n",
       " 'status',\n",
       " 'inactive_loans',\n",
       " 'bad_loans',\n",
       " 'emp_length_num',\n",
       " 'grade_num',\n",
       " 'sub_grade_num',\n",
       " 'delinq_2yrs_zero',\n",
       " 'pub_rec_zero',\n",
       " 'collections_12_mths_zero',\n",
       " 'short_emp',\n",
       " 'payment_inc_ratio',\n",
       " 'final_d',\n",
       " 'last_delinq_none',\n",
       " 'last_record_none',\n",
       " 'last_major_derog_none']"
      ]
     },
     "execution_count": 95,
     "metadata": {},
     "output_type": "execute_result"
    }
   ],
   "source": [
    "print len(loans)\n",
    "loans.column_names()"
   ]
  },
  {
   "cell_type": "markdown",
   "metadata": {},
   "source": [
    "## Modifying the target column\n",
    "\n",
    "**3.** The target column (label column) of the dataset that we are interested in is called `bad_loans`. In this column **1** means a risky (bad) loan **0** means a safe  loan.\n",
    "\n",
    "As in past assignments, in order to make this more intuitive and consistent with the lectures, we reassign the target to be:\n",
    "* **+1** as a safe  loan, \n",
    "* **-1** as a risky (bad) loan. \n",
    "\n",
    "We put this in a new column called `safe_loans`."
   ]
  },
  {
   "cell_type": "code",
   "execution_count": 96,
   "metadata": {
    "collapsed": false
   },
   "outputs": [
    {
     "name": "stdout",
     "output_type": "stream",
     "text": [
      "+---------+-----------+-----------+-----------+------------+\n",
      "|    id   | member_id | loan_amnt | bad_loans | safe_loans |\n",
      "+---------+-----------+-----------+-----------+------------+\n",
      "| 1077501 |  1296599  |    5000   |     0     |     1      |\n",
      "| 1077430 |  1314167  |    2500   |     1     |     -1     |\n",
      "+---------+-----------+-----------+-----------+------------+\n",
      "[2 rows x 5 columns]\n",
      "\n"
     ]
    }
   ],
   "source": [
    "#loans['safe_loans'] = loans['bad_loans'].apply(lambda x : +1 if x==0 else -1)\n",
    "\n",
    "# safe_loans =  1 => safe\n",
    "# safe_loans = -1 => risky\n",
    "loans['safe_loans'] = loans['bad_loans'].apply(lambda x : +1 if x==0 else -1)\n",
    "\n",
    "# just check if conversion done properly, before removing the 'bad_loans' col\n",
    "print loans[['id', 'member_id', 'loan_amnt', 'bad_loans', 'safe_loans']].head(2)\n",
    "\n",
    "# removing row traightforward\n",
    "# to remove/drop a column, axis=1 denotes that we are referring to a column\n",
    "# see http://chrisalbon.com/python/pandas_dropping_column_and_rows.html\n",
    "\n",
    "loans = loans.remove_column('bad_loans')\n",
    "#loans = loans.drop('bad_loans', axis=1)   #pandas\n"
   ]
  },
  {
   "cell_type": "markdown",
   "metadata": {},
   "source": [
    "## Selecting features\n",
    "\n",
    "**4.** In this assignment, we will be using a subset of features (categorical and numeric). The features we will be using are **described in the code comments** below. If you are a finance geek, the [LendingClub](https://www.lendingclub.com/) website has a lot more details about these features.\n",
    "\n",
    "The features we will be using are described in the code comments below:"
   ]
  },
  {
   "cell_type": "code",
   "execution_count": 97,
   "metadata": {
    "collapsed": false,
    "scrolled": true
   },
   "outputs": [
    {
     "name": "stdout",
     "output_type": "stream",
     "text": [
      "['grade', 'sub_grade_num', 'short_emp', 'emp_length_num', 'home_ownership', 'dti', 'purpose', 'payment_inc_ratio', 'delinq_2yrs', 'delinq_2yrs_zero', 'inq_last_6mths', 'last_delinq_none', 'last_major_derog_none', 'open_acc', 'pub_rec', 'pub_rec_zero', 'revol_util', 'total_rec_late_fee', 'int_rate', 'total_rec_int', 'annual_inc', 'funded_amnt', 'funded_amnt_inv', 'installment']\n",
      "122607\n"
     ]
    }
   ],
   "source": [
    "target = 'safe_loans'\n",
    "features = ['grade',                     # grade of the loan (categorical)\n",
    "            'sub_grade_num',             # sub-grade of the loan as a number from 0 to 1\n",
    "            'short_emp',                 # one year or less of employment\n",
    "            'emp_length_num',            # number of years of employment\n",
    "            'home_ownership',            # home_ownership status: own, mortgage or rent\n",
    "            'dti',                       # debt to income ratio\n",
    "            'purpose',                   # the purpose of the loan\n",
    "            'payment_inc_ratio',         # ratio of the monthly payment to income\n",
    "            'delinq_2yrs',               # number of delinquincies \n",
    "            'delinq_2yrs_zero',          # no delinquincies in last 2 years\n",
    "            'inq_last_6mths',            # number of creditor inquiries in last 6 months\n",
    "            'last_delinq_none',          # has borrower had a delinquincy\n",
    "            'last_major_derog_none',     # has borrower had 90 day or worse rating\n",
    "            'open_acc',                  # number of open credit accounts\n",
    "            'pub_rec',                   # number of derogatory public records\n",
    "            'pub_rec_zero',              # no derogatory public records\n",
    "            'revol_util',                # percent of available credit being used\n",
    "            'total_rec_late_fee',        # total late fees received to day\n",
    "            'int_rate',                  # interest rate of the loan\n",
    "            'total_rec_int',             # interest received to date\n",
    "            'annual_inc',                # annual income of borrower\n",
    "            'funded_amnt',               # amount committed to the loan\n",
    "            'funded_amnt_inv',           # amount committed by investors for the loan\n",
    "            'installment',               # monthly payment owed by the borrower\n",
    "           ]\n",
    "\n",
    "\n",
    "#loans = loans[features + [target]]\n",
    "\n",
    "print features\n",
    "print len(loans)"
   ]
  },
  {
   "cell_type": "markdown",
   "metadata": {},
   "source": [
    "## Skipping observations with missing values\n",
    "\n",
    "**5.** Recall from the lectures that one common approach to coping with missing values is to **skip** observations that contain missing values.\n",
    "\n",
    "Fortunately, there are not too many missing values. We are retaining most of the data.\n",
    "\n",
    "Your tool may provide a function to skip observations with missing values. Consult appropriate manuals.\n",
    "\n",
    "Fortunately, as you should find, there are not too many missing values. We are retaining most of the data.\n",
    "Notes to people using other tools."
   ]
  },
  {
   "cell_type": "code",
   "execution_count": 98,
   "metadata": {
    "collapsed": false
   },
   "outputs": [
    {
     "name": "stdout",
     "output_type": "stream",
     "text": [
      "Dropping 29 observations; keeping 122578 \n",
      "122578\n"
     ]
    }
   ],
   "source": [
    "loans, loans_with_na = loans[[target] + features].dropna_split()\n",
    "\n",
    "# Count the number of rows with missing data\n",
    "num_rows_with_na = loans_with_na.num_rows()\n",
    "num_rows = loans.num_rows()\n",
    "print 'Dropping %s observations; keeping %s ' % (num_rows_with_na, num_rows)\n",
    "# Dropping 29 observations; keeping 122578 \n",
    "\n",
    "# loans = loans[[target] + features].dropna()  #pandas\n",
    "\n",
    "print len(loans)"
   ]
  },
  {
   "cell_type": "markdown",
   "metadata": {},
   "source": [
    "If you are using SFrame, proceed to the section \"Make sure the classes are balanced\". Else go to NOT using SFrame."
   ]
  },
  {
   "cell_type": "markdown",
   "metadata": {},
   "source": [
    "## Make sure the classes are balanced"
   ]
  },
  {
   "cell_type": "markdown",
   "metadata": {},
   "source": [
    "**6.** We saw in an earlier assignment that this dataset is also imbalanced. We will undersample the larger class (safe loans) in order to balance out our dataset. We used `seed=1` to make sure everyone gets the same results."
   ]
  },
  {
   "cell_type": "code",
   "execution_count": 99,
   "metadata": {
    "collapsed": false
   },
   "outputs": [
    {
     "name": "stdout",
     "output_type": "stream",
     "text": [
      "Percentage of safe loans                 : 0.502247166849\n",
      "Percentage of risky loans                : 0.497752833151\n",
      "Total number of loans in our new dataset : 46503\n"
     ]
    }
   ],
   "source": [
    "safe_loans_raw = loans[loans[target] == 1]\n",
    "risky_loans_raw = loans[loans[target] == -1]\n",
    "\n",
    "# Undersample the safe loans.\n",
    "percentage = len(risky_loans_raw)/float(len(safe_loans_raw))\n",
    "safe_loans = safe_loans_raw.sample(percentage, seed = 1)\n",
    "risky_loans = risky_loans_raw\n",
    "loans_data = risky_loans.append(safe_loans)\n",
    "\n",
    "print \"Percentage of safe loans                 :\", len(safe_loans) / float(len(loans_data))\n",
    "print \"Percentage of risky loans                :\", len(risky_loans) / float(len(loans_data))\n",
    "print \"Total number of loans in our new dataset :\", len(loans_data)"
   ]
  },
  {
   "cell_type": "markdown",
   "metadata": {},
   "source": [
    "**Checkpoint:** You should now see that the dataset is balanced (approximately 50-50 safe vs risky loans)."
   ]
  },
  {
   "cell_type": "markdown",
   "metadata": {},
   "source": [
    "**Note:** There are many approaches for dealing with imbalanced data, including some where we modify the learning algorithm. These approaches are beyond the scope of this course, but some of them are reviewed in in \"[Learning from Imbalanced Data](http://www.ele.uri.edu/faculty/he/PDFfiles/ImbalancedLearning.pdf)\" by Haibo He and Edwardo A. Garcia, *IEEE Transactions on Knowledge and Data Engineering* **21**(9) (June 26, 2009), p. 1263–1284. For this assignment, we use the simplest possible approach, where we subsample the overly represented class to get a more balanced dataset. In general, and especially when the data is highly imbalanced, we recommend using more advanced methods.\n",
    "\n",
    "\n",
    "Attempting to learn from imbalanced data is difficult; namely, that assessing the performance of a classifier trained on an imbalanced dataset is more difficult. A real-world email dataset is likely to be imbalanced because approximately 90% of all email sent is spam. The so-called majority class classifier which labels all email as spam would therefore have ~90% accuracy on a representative test dataset. Overall accuracy or error of a spam email classifier does not provide adequate information for evaluation purposes because of this imbalance. We would need to look at other assessment metrics such as precision-recall curves for more conclusive evaluation of a classifier's performance.\n",
    "\n",
    "Bit like in fog forecasting, fog only occurs 2% of days in a year, so if we forecast no fog every time, we will be correct 98% of the time. Although this is very high accuracy, it does not provide adequate information for evaluation purposes. 2% of the time we will be wrong - we have to determine if this false negatives is acceptable risk to industry.\n",
    "\n",
    "Another, more important reason why attempting to learn from an imbalanced dataset is difficult is that many algorithms assume balanced class distributions or relatively equal costs of misclassification. If that is not the case, then important distinguishing characteristics may go unlearned."
   ]
  },
  {
   "cell_type": "markdown",
   "metadata": {},
   "source": [
    "## NOT using SFrame\n",
    "\n",
    "Download the list of indices for the training and validation sets: module-8-assignment-1-train-idx.json, module-8-assignment-1-validation-idx.json. Then follow the following steps:\n",
    "\n",
    "*    Apply one-hot encoding to loans. Your tool may have a function for one-hot encoding. Alternatively, see #7 for implementation hints.\n",
    "*    Load the JSON files into the lists train_idx and validation_idx.\n",
    "*    Perform train/validation split using train_idx and validation_idx. In Pandas, for instance:\n",
    "\n",
    "train_data = loans.iloc[train_idx]\n",
    "\n",
    "validation_data = loans.iloc[validation_idx]\n",
    "\n",
    "Note. Some elements in loans are included neither in train_data nor validation_data. This is to perform sampling to achieve class balance.\n",
    "\n",
    "Now proceed to the section \"Gradient boosted tree classifier\", skipping three sections below, (1) handling class imbalance and (2) one hot encoding and (3) split train test."
   ]
  },
  {
   "cell_type": "markdown",
   "metadata": {},
   "source": [
    "## One-hot encoding\n",
    "\n",
    "For scikit-learn's decision tree implementation, it numerical values for it's data matrix. This means you will have to turn categorical variables into binary features via one-hot encoding.\n",
    "\n",
    "**7.** We've seen this same piece of code in earlier assignments. Again, feel free to use this piece of code as is. Refer to the API documentation for a deeper understanding."
   ]
  },
  {
   "cell_type": "code",
   "execution_count": 100,
   "metadata": {
    "collapsed": false
   },
   "outputs": [
    {
     "data": {
      "text/plain": [
       "['safe_loans',\n",
       " 'sub_grade_num',\n",
       " 'short_emp',\n",
       " 'emp_length_num',\n",
       " 'dti',\n",
       " 'payment_inc_ratio',\n",
       " 'delinq_2yrs',\n",
       " 'delinq_2yrs_zero',\n",
       " 'inq_last_6mths',\n",
       " 'last_delinq_none',\n",
       " 'last_major_derog_none',\n",
       " 'open_acc',\n",
       " 'pub_rec',\n",
       " 'pub_rec_zero',\n",
       " 'revol_util',\n",
       " 'total_rec_late_fee',\n",
       " 'int_rate',\n",
       " 'total_rec_int',\n",
       " 'annual_inc',\n",
       " 'funded_amnt',\n",
       " 'funded_amnt_inv',\n",
       " 'installment',\n",
       " 'grade.A',\n",
       " 'grade.B',\n",
       " 'grade.C',\n",
       " 'grade.D',\n",
       " 'grade.E',\n",
       " 'grade.F',\n",
       " 'grade.G',\n",
       " 'home_ownership.MORTGAGE',\n",
       " 'home_ownership.OTHER',\n",
       " 'home_ownership.OWN',\n",
       " 'home_ownership.RENT',\n",
       " 'purpose.car',\n",
       " 'purpose.credit_card',\n",
       " 'purpose.debt_consolidation',\n",
       " 'purpose.home_improvement',\n",
       " 'purpose.house',\n",
       " 'purpose.major_purchase',\n",
       " 'purpose.medical',\n",
       " 'purpose.moving',\n",
       " 'purpose.other',\n",
       " 'purpose.small_business',\n",
       " 'purpose.vacation',\n",
       " 'purpose.wedding']"
      ]
     },
     "execution_count": 100,
     "metadata": {},
     "output_type": "execute_result"
    }
   ],
   "source": [
    "categorical_variables = []\n",
    "for feat_name, feat_type in zip(loans_data.column_names(), loans_data.column_types()):\n",
    "    if feat_type == str:\n",
    "        categorical_variables.append(feat_name)\n",
    "\n",
    "for feature in categorical_variables:\n",
    "    loans_data_one_hot_encoded = loans_data[feature].apply(lambda x: {x: 1})\n",
    "    loans_data_unpacked = loans_data_one_hot_encoded.unpack(column_name_prefix=feature)\n",
    "\n",
    "    # Change None's to 0's\n",
    "    for column in loans_data_unpacked.column_names():\n",
    "        loans_data_unpacked[column] = loans_data_unpacked[column].fillna(0)\n",
    "\n",
    "    loans_data.remove_column(feature)\n",
    "    loans_data.add_columns(loans_data_unpacked)\n",
    "\n",
    "loans_data.column_names()"
   ]
  },
  {
   "cell_type": "markdown",
   "metadata": {},
   "source": [
    "## Split data into training and validation sets"
   ]
  },
  {
   "cell_type": "markdown",
   "metadata": {},
   "source": [
    "**8.** We split the data into training data and validation data. We used `seed=1` to make sure everyone gets the same results. We will use the validation data to help us select model parameters."
   ]
  },
  {
   "cell_type": "code",
   "execution_count": 101,
   "metadata": {
    "collapsed": false
   },
   "outputs": [
    {
     "name": "stdout",
     "output_type": "stream",
     "text": [
      "Training set   : 37219 data points\n",
      "Validation set       : 9284 data points\n",
      "+------------+---------------+-----------+----------------+-----+-------------------+\n",
      "| safe_loans | sub_grade_num | short_emp | emp_length_num | dti | payment_inc_ratio |\n",
      "+------------+---------------+-----------+----------------+-----+-------------------+\n",
      "|     -1     |      0.8      |     1     |       1        | 1.0 |       2.3932      |\n",
      "+------------+---------------+-----------+----------------+-----+-------------------+\n",
      "+-------------+------------------+----------------+------------------+-----------------------+\n",
      "| delinq_2yrs | delinq_2yrs_zero | inq_last_6mths | last_delinq_none | last_major_derog_none |\n",
      "+-------------+------------------+----------------+------------------+-----------------------+\n",
      "|      0      |        1         |       5        |        1         |           1           |\n",
      "+-------------+------------------+----------------+------------------+-----------------------+\n",
      "+----------+---------+--------------+------------+--------------------+----------+\n",
      "| open_acc | pub_rec | pub_rec_zero | revol_util | total_rec_late_fee | int_rate |\n",
      "+----------+---------+--------------+------------+--------------------+----------+\n",
      "|    3     |    0    |      1       |    9.4     |        0.0         |  15.27   |\n",
      "+----------+---------+--------------+------------+--------------------+----------+\n",
      "+---------------+------------+-------------+-----+\n",
      "| total_rec_int | annual_inc | funded_amnt | ... |\n",
      "+---------------+------------+-------------+-----+\n",
      "|     435.17    |   30000    |     2500    | ... |\n",
      "+---------------+------------+-------------+-----+\n",
      "[1 rows x 45 columns]\n",
      "\n"
     ]
    }
   ],
   "source": [
    "train_data, validation_data = loans_data.random_split(.8, seed=1)\n",
    "print 'Training set   : %d data points' % len(train_data)\n",
    "print 'Validation set       : %d data points' % len(validation_data)\n",
    "\n",
    "print train_data.head(1)\n",
    "\n",
    "# we convert both train and validation sframes to dataframes\n",
    "train_data = train_data.to_dataframe()\n",
    "validation_data= validation_data.to_dataframe()"
   ]
  },
  {
   "cell_type": "code",
   "execution_count": 102,
   "metadata": {
    "collapsed": false,
    "scrolled": true
   },
   "outputs": [
    {
     "data": {
      "text/html": [
       "<div>\n",
       "<table border=\"1\" class=\"dataframe\">\n",
       "  <thead>\n",
       "    <tr style=\"text-align: right;\">\n",
       "      <th></th>\n",
       "      <th>safe_loans</th>\n",
       "      <th>sub_grade_num</th>\n",
       "      <th>short_emp</th>\n",
       "      <th>emp_length_num</th>\n",
       "      <th>dti</th>\n",
       "      <th>payment_inc_ratio</th>\n",
       "      <th>delinq_2yrs</th>\n",
       "      <th>delinq_2yrs_zero</th>\n",
       "      <th>inq_last_6mths</th>\n",
       "      <th>last_delinq_none</th>\n",
       "      <th>...</th>\n",
       "      <th>purpose.debt_consolidation</th>\n",
       "      <th>purpose.home_improvement</th>\n",
       "      <th>purpose.house</th>\n",
       "      <th>purpose.major_purchase</th>\n",
       "      <th>purpose.medical</th>\n",
       "      <th>purpose.moving</th>\n",
       "      <th>purpose.other</th>\n",
       "      <th>purpose.small_business</th>\n",
       "      <th>purpose.vacation</th>\n",
       "      <th>purpose.wedding</th>\n",
       "    </tr>\n",
       "  </thead>\n",
       "  <tbody>\n",
       "    <tr>\n",
       "      <th>0</th>\n",
       "      <td>-1</td>\n",
       "      <td>0.8</td>\n",
       "      <td>1</td>\n",
       "      <td>1</td>\n",
       "      <td>1.0</td>\n",
       "      <td>2.3932</td>\n",
       "      <td>0</td>\n",
       "      <td>1</td>\n",
       "      <td>5</td>\n",
       "      <td>1</td>\n",
       "      <td>...</td>\n",
       "      <td>0</td>\n",
       "      <td>0</td>\n",
       "      <td>0</td>\n",
       "      <td>0</td>\n",
       "      <td>0</td>\n",
       "      <td>0</td>\n",
       "      <td>0</td>\n",
       "      <td>0</td>\n",
       "      <td>0</td>\n",
       "      <td>0</td>\n",
       "    </tr>\n",
       "  </tbody>\n",
       "</table>\n",
       "<p>1 rows × 45 columns</p>\n",
       "</div>"
      ],
      "text/plain": [
       "   safe_loans  sub_grade_num  short_emp  emp_length_num  dti  \\\n",
       "0          -1            0.8          1               1  1.0   \n",
       "\n",
       "   payment_inc_ratio  delinq_2yrs  delinq_2yrs_zero  inq_last_6mths  \\\n",
       "0             2.3932            0                 1               5   \n",
       "\n",
       "   last_delinq_none       ...         purpose.debt_consolidation  \\\n",
       "0                 1       ...                                  0   \n",
       "\n",
       "   purpose.home_improvement  purpose.house  purpose.major_purchase  \\\n",
       "0                         0              0                       0   \n",
       "\n",
       "   purpose.medical  purpose.moving  purpose.other  purpose.small_business  \\\n",
       "0                0               0              0                       0   \n",
       "\n",
       "   purpose.vacation  purpose.wedding  \n",
       "0                 0                0  \n",
       "\n",
       "[1 rows x 45 columns]"
      ]
     },
     "execution_count": 102,
     "metadata": {},
     "output_type": "execute_result"
    }
   ],
   "source": [
    "train_data.head(1)"
   ]
  },
  {
   "cell_type": "code",
   "execution_count": 103,
   "metadata": {
    "collapsed": false
   },
   "outputs": [
    {
     "data": {
      "text/html": [
       "<div>\n",
       "<table border=\"1\" class=\"dataframe\">\n",
       "  <thead>\n",
       "    <tr style=\"text-align: right;\">\n",
       "      <th></th>\n",
       "      <th>safe_loans</th>\n",
       "      <th>sub_grade_num</th>\n",
       "      <th>short_emp</th>\n",
       "      <th>emp_length_num</th>\n",
       "      <th>dti</th>\n",
       "      <th>payment_inc_ratio</th>\n",
       "      <th>delinq_2yrs</th>\n",
       "      <th>delinq_2yrs_zero</th>\n",
       "      <th>inq_last_6mths</th>\n",
       "      <th>last_delinq_none</th>\n",
       "      <th>...</th>\n",
       "      <th>purpose.debt_consolidation</th>\n",
       "      <th>purpose.home_improvement</th>\n",
       "      <th>purpose.house</th>\n",
       "      <th>purpose.major_purchase</th>\n",
       "      <th>purpose.medical</th>\n",
       "      <th>purpose.moving</th>\n",
       "      <th>purpose.other</th>\n",
       "      <th>purpose.small_business</th>\n",
       "      <th>purpose.vacation</th>\n",
       "      <th>purpose.wedding</th>\n",
       "    </tr>\n",
       "  </thead>\n",
       "  <tbody>\n",
       "    <tr>\n",
       "      <th>0</th>\n",
       "      <td>-1</td>\n",
       "      <td>0.4</td>\n",
       "      <td>0</td>\n",
       "      <td>3</td>\n",
       "      <td>13.97</td>\n",
       "      <td>2.96736</td>\n",
       "      <td>3</td>\n",
       "      <td>0</td>\n",
       "      <td>0</td>\n",
       "      <td>0</td>\n",
       "      <td>...</td>\n",
       "      <td>0</td>\n",
       "      <td>0</td>\n",
       "      <td>0</td>\n",
       "      <td>0</td>\n",
       "      <td>0</td>\n",
       "      <td>0</td>\n",
       "      <td>1</td>\n",
       "      <td>0</td>\n",
       "      <td>0</td>\n",
       "      <td>0</td>\n",
       "    </tr>\n",
       "  </tbody>\n",
       "</table>\n",
       "<p>1 rows × 45 columns</p>\n",
       "</div>"
      ],
      "text/plain": [
       "   safe_loans  sub_grade_num  short_emp  emp_length_num    dti  \\\n",
       "0          -1            0.4          0               3  13.97   \n",
       "\n",
       "   payment_inc_ratio  delinq_2yrs  delinq_2yrs_zero  inq_last_6mths  \\\n",
       "0            2.96736            3                 0               0   \n",
       "\n",
       "   last_delinq_none       ...         purpose.debt_consolidation  \\\n",
       "0                 0       ...                                  0   \n",
       "\n",
       "   purpose.home_improvement  purpose.house  purpose.major_purchase  \\\n",
       "0                         0              0                       0   \n",
       "\n",
       "   purpose.medical  purpose.moving  purpose.other  purpose.small_business  \\\n",
       "0                0               0              1                       0   \n",
       "\n",
       "   purpose.vacation  purpose.wedding  \n",
       "0                 0                0  \n",
       "\n",
       "[1 rows x 45 columns]"
      ]
     },
     "execution_count": 103,
     "metadata": {},
     "output_type": "execute_result"
    }
   ],
   "source": [
    "validation_data.head(1)"
   ]
  },
  {
   "cell_type": "markdown",
   "metadata": {},
   "source": [
    "# Gradient boosted tree classifier"
   ]
  },
  {
   "cell_type": "markdown",
   "metadata": {},
   "source": [
    "**9.** Gradient boosted trees are a powerful variant of boosting methods; they have been used to win many [Kaggle](https://www.kaggle.com/) competitions, and have been widely used in industry.  We will explore the predictive power of multiple decision trees as opposed to a single decision tree.\n",
    "\n",
    "**Additional reading:** If you are interested in gradient boosted trees, here is some additional reading material:\n",
    "* [GraphLab Create user guide](https://dato.com/learn/userguide/supervised-learning/boosted_trees_classifier.html)\n",
    "* [Advanced material on boosted trees](http://homes.cs.washington.edu/~tqchen/pdf/BoostedTree.pdf)\n",
    "\n",
    "\n",
    "We will now train models to predict `safe_loans` using the features above. In this section, we will experiment with training an ensemble of 5 trees. To cap the ensemble classifier at 5 trees, we call the function with **max_iterations=5** (recall that each iterations corresponds to adding a tree). We set `validation_set=None` to make sure everyone gets the same results."
   ]
  },
  {
   "cell_type": "markdown",
   "metadata": {},
   "source": [
    "Can also use the built-in scikit learn gradient boosting classifier ([sklearn.ensemble.GradientBoostingClassifier](http://scikit-learn.org/stable/modules/generated/sklearn.ensemble.GradientBoostingClassifier.html)) to create a gradient boosted classifier on the training data. You will need to import sklearn, sklearn.ensemble, and numpy.\n",
    "\n",
    "You will have to first convert the SFrame into a numpy data matrix. See the [API](http://scikit-learn.org/stable/modules/generated/sklearn.tree.DecisionTreeClassifier.html) for more information. You will also have to extract the label column. Make sure to set max_depth=6 and n_estimators=5.\n",
    "\n",
    "see also [vidhya](https://www.analyticsvidhya.com/blog/2016/02/complete-guide-parameter-tuning-gradient-boosting-gbm-python/) for how to tune learning parameters. \n",
    "\n",
    "Before proceeding further, lets define a function which will help us create GBM models and perform cross-validation."
   ]
  },
  {
   "cell_type": "code",
   "execution_count": 104,
   "metadata": {
    "collapsed": true
   },
   "outputs": [],
   "source": [
    "def modelfit(alg, dtrain, predictors, performCV=True, printFeatureImportance=True, cv_folds=5):\n",
    "    #Fit the algorithm on the data\n",
    "    alg.fit(dtrain[predictors], dtrain[target])\n",
    "        \n",
    "    #Predict training set:\n",
    "    dtrain_predictions = alg.predict(dtrain[predictors])\n",
    "    dtrain_predprob = alg.predict_proba(dtrain[predictors])[:,1]\n",
    "    \n",
    "    #Perform cross-validation:\n",
    "    if performCV:\n",
    "        cv_score = cross_validation.cross_val_score(alg, dtrain[predictors], dtrain[target], cv=cv_folds, scoring='roc_auc')\n",
    "    \n",
    "    #Print model report:\n",
    "    print \"\\nModel Report\"\n",
    "    print \"Accuracy : %.4g\" % metrics.accuracy_score(dtrain[target].values, dtrain_predictions)\n",
    "    print \"AUC Score (Train): %f\" % metrics.roc_auc_score(dtrain[target], dtrain_predprob)\n",
    "    \n",
    "    if performCV:\n",
    "        print \"CV Score : Mean - %.7g | Std - %.7g | Min - %.7g | Max - %.7g\" % (np.mean(cv_score),np.std(cv_score),np.min(cv_score),np.max(cv_score))\n",
    "        \n",
    "    #Print Feature Importance:\n",
    "    if printFeatureImportance:\n",
    "        feat_imp = pd.Series(alg.feature_importances_, predictors).sort_values(ascending=False)\n",
    "        feat_imp.plot(kind='bar', title='Feature Importances')\n",
    "        plt.ylabel('Feature Importance Score')"
   ]
  },
  {
   "cell_type": "code",
   "execution_count": 105,
   "metadata": {
    "collapsed": false
   },
   "outputs": [
    {
     "name": "stdout",
     "output_type": "stream",
     "text": [
      "\n",
      "Model Report\n",
      "Accuracy : 0.6655\n",
      "AUC Score (Train): 0.731256\n",
      "CV Score : Mean - 0.703338 | Std - 0.0204824 | Min - 0.6669181 | Max - 0.7234102\n"
     ]
    },
    {
     "data": {
      "image/png": "[encoded data removed]",
      "text/plain": [
       "<matplotlib.figure.Figure at 0x7fb808719e90>"
      ]
     },
     "metadata": {},
     "output_type": "display_data"
    }
   ],
   "source": [
    "#model_5 = graphlab.boosted_trees_classifier.create(train_data, validation_set=None, \n",
    "#        target = target, features = features, max_iterations = 5)\n",
    "\n",
    "#Note features = original features\n",
    "#predictors would be all one-hot encoded categorical features and original numeric features\n",
    "\n",
    "#Thus choose all predictors except target\n",
    "predictors = [x for x in list(train_data.columns) if x not in [target]]\n",
    "\n",
    "model_5 = GradientBoostingClassifier(max_depth=6,n_estimators=5) #,random_state=10)\n",
    "model_5.fit(train_data[predictors], train_data[target])\n",
    "\n",
    "modelfit(model_5, train_data, predictors)"
   ]
  },
  {
   "cell_type": "markdown",
   "metadata": {},
   "source": [
    "# Making predictions\n",
    "\n",
    "**10.** Just like we did in previous sections, let us consider a few positive and negative examples **from the validation set**. We will do the following:\n",
    "* Predict whether or not a loan is likely to default.\n",
    "* Predict the probability with which the loan is likely to default."
   ]
  },
  {
   "cell_type": "code",
   "execution_count": 106,
   "metadata": {
    "collapsed": false
   },
   "outputs": [
    {
     "data": {
      "text/html": [
       "<div>\n",
       "<table border=\"1\" class=\"dataframe\">\n",
       "  <thead>\n",
       "    <tr style=\"text-align: right;\">\n",
       "      <th></th>\n",
       "      <th>safe_loans</th>\n",
       "      <th>sub_grade_num</th>\n",
       "      <th>short_emp</th>\n",
       "      <th>emp_length_num</th>\n",
       "      <th>dti</th>\n",
       "      <th>payment_inc_ratio</th>\n",
       "      <th>delinq_2yrs</th>\n",
       "      <th>delinq_2yrs_zero</th>\n",
       "      <th>inq_last_6mths</th>\n",
       "      <th>last_delinq_none</th>\n",
       "      <th>...</th>\n",
       "      <th>purpose.debt_consolidation</th>\n",
       "      <th>purpose.home_improvement</th>\n",
       "      <th>purpose.house</th>\n",
       "      <th>purpose.major_purchase</th>\n",
       "      <th>purpose.medical</th>\n",
       "      <th>purpose.moving</th>\n",
       "      <th>purpose.other</th>\n",
       "      <th>purpose.small_business</th>\n",
       "      <th>purpose.vacation</th>\n",
       "      <th>purpose.wedding</th>\n",
       "    </tr>\n",
       "  </thead>\n",
       "  <tbody>\n",
       "    <tr>\n",
       "      <th>4672</th>\n",
       "      <td>1</td>\n",
       "      <td>0.2</td>\n",
       "      <td>0</td>\n",
       "      <td>3</td>\n",
       "      <td>29.44</td>\n",
       "      <td>6.30496</td>\n",
       "      <td>0</td>\n",
       "      <td>1</td>\n",
       "      <td>0</td>\n",
       "      <td>1</td>\n",
       "      <td>...</td>\n",
       "      <td>0</td>\n",
       "      <td>0</td>\n",
       "      <td>0</td>\n",
       "      <td>0</td>\n",
       "      <td>0</td>\n",
       "      <td>0</td>\n",
       "      <td>0</td>\n",
       "      <td>0</td>\n",
       "      <td>0</td>\n",
       "      <td>0</td>\n",
       "    </tr>\n",
       "    <tr>\n",
       "      <th>4673</th>\n",
       "      <td>1</td>\n",
       "      <td>0.6</td>\n",
       "      <td>1</td>\n",
       "      <td>1</td>\n",
       "      <td>12.19</td>\n",
       "      <td>13.49520</td>\n",
       "      <td>0</td>\n",
       "      <td>1</td>\n",
       "      <td>0</td>\n",
       "      <td>1</td>\n",
       "      <td>...</td>\n",
       "      <td>0</td>\n",
       "      <td>0</td>\n",
       "      <td>0</td>\n",
       "      <td>0</td>\n",
       "      <td>0</td>\n",
       "      <td>0</td>\n",
       "      <td>0</td>\n",
       "      <td>0</td>\n",
       "      <td>0</td>\n",
       "      <td>0</td>\n",
       "    </tr>\n",
       "    <tr>\n",
       "      <th>0</th>\n",
       "      <td>-1</td>\n",
       "      <td>0.4</td>\n",
       "      <td>0</td>\n",
       "      <td>3</td>\n",
       "      <td>13.97</td>\n",
       "      <td>2.96736</td>\n",
       "      <td>3</td>\n",
       "      <td>0</td>\n",
       "      <td>0</td>\n",
       "      <td>0</td>\n",
       "      <td>...</td>\n",
       "      <td>0</td>\n",
       "      <td>0</td>\n",
       "      <td>0</td>\n",
       "      <td>0</td>\n",
       "      <td>0</td>\n",
       "      <td>0</td>\n",
       "      <td>1</td>\n",
       "      <td>0</td>\n",
       "      <td>0</td>\n",
       "      <td>0</td>\n",
       "    </tr>\n",
       "    <tr>\n",
       "      <th>1</th>\n",
       "      <td>-1</td>\n",
       "      <td>1.0</td>\n",
       "      <td>0</td>\n",
       "      <td>11</td>\n",
       "      <td>16.33</td>\n",
       "      <td>1.90524</td>\n",
       "      <td>0</td>\n",
       "      <td>1</td>\n",
       "      <td>0</td>\n",
       "      <td>1</td>\n",
       "      <td>...</td>\n",
       "      <td>1</td>\n",
       "      <td>0</td>\n",
       "      <td>0</td>\n",
       "      <td>0</td>\n",
       "      <td>0</td>\n",
       "      <td>0</td>\n",
       "      <td>0</td>\n",
       "      <td>0</td>\n",
       "      <td>0</td>\n",
       "      <td>0</td>\n",
       "    </tr>\n",
       "  </tbody>\n",
       "</table>\n",
       "<p>4 rows × 45 columns</p>\n",
       "</div>"
      ],
      "text/plain": [
       "      safe_loans  sub_grade_num  short_emp  emp_length_num    dti  \\\n",
       "4672           1            0.2          0               3  29.44   \n",
       "4673           1            0.6          1               1  12.19   \n",
       "0             -1            0.4          0               3  13.97   \n",
       "1             -1            1.0          0              11  16.33   \n",
       "\n",
       "      payment_inc_ratio  delinq_2yrs  delinq_2yrs_zero  inq_last_6mths  \\\n",
       "4672            6.30496            0                 1               0   \n",
       "4673           13.49520            0                 1               0   \n",
       "0               2.96736            3                 0               0   \n",
       "1               1.90524            0                 1               0   \n",
       "\n",
       "      last_delinq_none       ...         purpose.debt_consolidation  \\\n",
       "4672                 1       ...                                  0   \n",
       "4673                 1       ...                                  0   \n",
       "0                    0       ...                                  0   \n",
       "1                    1       ...                                  1   \n",
       "\n",
       "      purpose.home_improvement  purpose.house  purpose.major_purchase  \\\n",
       "4672                         0              0                       0   \n",
       "4673                         0              0                       0   \n",
       "0                            0              0                       0   \n",
       "1                            0              0                       0   \n",
       "\n",
       "      purpose.medical  purpose.moving  purpose.other  purpose.small_business  \\\n",
       "4672                0               0              0                       0   \n",
       "4673                0               0              0                       0   \n",
       "0                   0               0              1                       0   \n",
       "1                   0               0              0                       0   \n",
       "\n",
       "      purpose.vacation  purpose.wedding  \n",
       "4672                 0                0  \n",
       "4673                 0                0  \n",
       "0                    0                0  \n",
       "1                    0                0  \n",
       "\n",
       "[4 rows x 45 columns]"
      ]
     },
     "execution_count": 106,
     "metadata": {},
     "output_type": "execute_result"
    }
   ],
   "source": [
    "# Select all positive and negative examples.\n",
    "validation_safe_loans = validation_data[validation_data[target] == 1]\n",
    "validation_risky_loans = validation_data[validation_data[target] == -1]\n",
    "\n",
    "# Select 2 examples from the validation set for positive & negative loans\n",
    "sample_validation_data_risky = validation_risky_loans[0:2]\n",
    "sample_validation_data_safe = validation_safe_loans[0:2]\n",
    "\n",
    "# Append the 4 examples into a single dataset\n",
    "sample_validation_data = sample_validation_data_safe.append(sample_validation_data_risky)\n",
    "sample_validation_data"
   ]
  },
  {
   "cell_type": "markdown",
   "metadata": {},
   "source": [
    "### Predicting on sample validation data\n",
    "\n",
    "**11.** For each row in the **sample_validation_data**, write code to make **model_5** predict whether or not the loan is classified as a **safe loan**.\n",
    "\n",
    "**Hint:** Use the `predict` method in `model_5` for this. If you are using scikit-learn, you can use the [.predict()](http://scikit-learn.org/stable/modules/generated/sklearn.ensemble.GradientBoostingClassifier.html#sklearn.ensemble.GradientBoostingClassifier.predict) method)"
   ]
  },
  {
   "cell_type": "code",
   "execution_count": 107,
   "metadata": {
    "collapsed": false
   },
   "outputs": [
    {
     "name": "stdout",
     "output_type": "stream",
     "text": [
      "[ 1  1 -1  1]\n",
      "4672    1\n",
      "4673    1\n",
      "0      -1\n",
      "1      -1\n",
      "Name: safe_loans, dtype: int64\n"
     ]
    }
   ],
   "source": [
    "predictions = model_5.predict(sample_validation_data[predictors])\n",
    "print predictions\n",
    "print sample_validation_data[target]"
   ]
  },
  {
   "cell_type": "code",
   "execution_count": 108,
   "metadata": {
    "collapsed": false
   },
   "outputs": [
    {
     "name": "stdout",
     "output_type": "stream",
     "text": [
      "num of predictions +ve class:3\n",
      "num of predictions -ve class:1\n",
      "-----------------------------------------------------\n",
      "# Reviews   correctly classified = 3\n",
      "# Reviews incorrectly classified = 1\n",
      "# Reviews total                  = 4\n",
      "-----------------------------------------------------\n",
      "Accuracy = 0.75\n"
     ]
    }
   ],
   "source": [
    "print \"num of predictions +ve class:%d\" %(predictions == +1).sum()\n",
    "print \"num of predictions -ve class:%d\" %(predictions == -1).sum()\n",
    "actuals = sample_validation_data[target]\n",
    "num_correct = sum( np.equal(predictions, actuals))\n",
    "num_mistakes = len(sample_validation_data) - num_correct\n",
    "accuracy = 1. * num_correct/len(sample_validation_data)\n",
    "print \"-----------------------------------------------------\"\n",
    "print '# Reviews   correctly classified =', num_correct\n",
    "print '# Reviews incorrectly classified =', num_mistakes\n",
    "print '# Reviews total                  =', len(sample_validation_data)\n",
    "print \"-----------------------------------------------------\"\n",
    "print 'Accuracy = %.2f' % accuracy"
   ]
  },
  {
   "cell_type": "markdown",
   "metadata": {},
   "source": [
    "**Quiz question:** What percentage of the predictions on `sample_validation_data` did `model_5` get correct?\n",
    "\n",
    "### Prediction probabilities\n",
    "\n",
    "**12.** For each row in the **sample_validation_data**, what is the probability (according **model_5**) of a loan being classified as **safe**? \n",
    "\n",
    "**Hint:** Set `output_type='probability'` to make **probability** predictions using `model_5` on `sample_validation_data`: If you are using scikit-learn, you can use the [.predict_proba()](http://scikit-learn.org/stable/modules/generated/sklearn.ensemble.GradientBoostingClassifier.html#sklearn.ensemble.GradientBoostingClassifier.predict_proba) method)"
   ]
  },
  {
   "cell_type": "code",
   "execution_count": 109,
   "metadata": {
    "collapsed": false
   },
   "outputs": [
    {
     "name": "stdout",
     "output_type": "stream",
     "text": [
      "Prob predictions [ 0.58357669  0.53050311  0.46192208  0.60408361]\n",
      "\n",
      "Prob 2 class [1, 1, -1, 1]\n",
      "\n",
      "Actual class labels\n",
      "4672    1\n",
      "4673    1\n",
      "0      -1\n",
      "1      -1\n",
      "Name: safe_loans, dtype: int64\n"
     ]
    }
   ],
   "source": [
    "prob_predictions = model_5.predict_proba(sample_validation_data[predictors])\n",
    "#print \"%0.2f\" %(predictions)\n",
    "print \"Prob predictions\", prob_predictions[:,1 ]\n",
    "\n",
    "#print [+1 if x >= 0.5 else -1 for x in enumerate(prob_predictions[:,1])]\n",
    "prob_2_class = [+1 if x >= 0.5 else -1 for x in prob_predictions[:,1]]  \n",
    "print \"\\nProb 2 class\",prob_2_class\n",
    "\n",
    "print \"\\nActual class labels\\n\", sample_validation_data[target]"
   ]
  },
  {
   "cell_type": "markdown",
   "metadata": {},
   "source": [
    "**Quiz Question:** According to **model_5**, which loan is the least likely to be a safe loan?\n",
    "\n",
    "**Checkpoint:** Can you verify that for all the predictions with `probability >= 0.5`, the model predicted the label **+1**?"
   ]
  },
  {
   "cell_type": "code",
   "execution_count": 110,
   "metadata": {
    "collapsed": false
   },
   "outputs": [
    {
     "name": "stdout",
     "output_type": "stream",
     "text": [
      "Lowest probabilty of loan being safe = 0.4619 for item at index 2\n"
     ]
    },
    {
     "data": {
      "text/plain": [
       "safe_loans                       -1.00000\n",
       "sub_grade_num                     0.40000\n",
       "short_emp                         0.00000\n",
       "emp_length_num                    3.00000\n",
       "dti                              13.97000\n",
       "payment_inc_ratio                 2.96736\n",
       "delinq_2yrs                       3.00000\n",
       "delinq_2yrs_zero                  0.00000\n",
       "inq_last_6mths                    0.00000\n",
       "last_delinq_none                  0.00000\n",
       "last_major_derog_none             1.00000\n",
       "open_acc                         14.00000\n",
       "pub_rec                           0.00000\n",
       "pub_rec_zero                      1.00000\n",
       "revol_util                       59.50000\n",
       "total_rec_late_fee                0.00000\n",
       "int_rate                         16.77000\n",
       "total_rec_int                   719.11000\n",
       "annual_inc                    50004.00000\n",
       "funded_amnt                    5000.00000\n",
       "funded_amnt_inv                5000.00000\n",
       "installment                     123.65000\n",
       "grade.A                           0.00000\n",
       "grade.B                           0.00000\n",
       "grade.C                           0.00000\n",
       "grade.D                           1.00000\n",
       "grade.E                           0.00000\n",
       "grade.F                           0.00000\n",
       "grade.G                           0.00000\n",
       "home_ownership.MORTGAGE           0.00000\n",
       "home_ownership.OTHER              0.00000\n",
       "home_ownership.OWN                0.00000\n",
       "home_ownership.RENT               1.00000\n",
       "purpose.car                       0.00000\n",
       "purpose.credit_card               0.00000\n",
       "purpose.debt_consolidation        0.00000\n",
       "purpose.home_improvement          0.00000\n",
       "purpose.house                     0.00000\n",
       "purpose.major_purchase            0.00000\n",
       "purpose.medical                   0.00000\n",
       "purpose.moving                    0.00000\n",
       "purpose.other                     1.00000\n",
       "purpose.small_business            0.00000\n",
       "purpose.vacation                  0.00000\n",
       "purpose.wedding                   0.00000\n",
       "Name: 0, dtype: float64"
      ]
     },
     "execution_count": 110,
     "metadata": {},
     "output_type": "execute_result"
    }
   ],
   "source": [
    "min_prob, index = min([(v,i) for i,v in enumerate(prob_predictions[:,1])])\n",
    "print \"Lowest probabilty of loan being safe = %0.4f for item at index %d\" %(min_prob, index)\n",
    "\n",
    "sample_validation_data.iloc[index]"
   ]
  },
  {
   "cell_type": "code",
   "execution_count": 111,
   "metadata": {
    "collapsed": false
   },
   "outputs": [
    {
     "name": "stdout",
     "output_type": "stream",
     "text": [
      "Number matching  4\n"
     ]
    }
   ],
   "source": [
    "prob_2_class = [+1 if x >= 0.5 else -1 for x in prob_predictions[:,1]]  \n",
    "print \"Number matching \", sum( np.equal(predictions, prob_2_class))"
   ]
  },
  {
   "cell_type": "markdown",
   "metadata": {
    "collapsed": true
   },
   "source": [
    "## Evaluating the model on the validation data"
   ]
  },
  {
   "cell_type": "markdown",
   "metadata": {},
   "source": [
    "Recall that the accuracy is defined as follows:\n",
    "$$\n",
    "\\mbox{accuracy} = \\frac{\\mbox{# correctly classified examples}}{\\mbox{# total examples}}\n",
    "$$\n",
    "\n",
    "**13.** Evaluate the accuracy of the **model_5** on the **validation_data**.\n",
    "\n",
    "**Hint**: Use the `.evaluate()` method in the model."
   ]
  },
  {
   "cell_type": "code",
   "execution_count": 112,
   "metadata": {
    "collapsed": false
   },
   "outputs": [
    {
     "name": "stdout",
     "output_type": "stream",
     "text": [
      "Accuracy : 0.6614\n",
      "AUC Score (Train): 0.716653\n"
     ]
    }
   ],
   "source": [
    "#model_5.evaluate(validation_data[predictors])  as given by graphlab create\n",
    "#{'accuracy': 0.66813873330461,\n",
    "# 'auc': 0.7247215702188436,\n",
    "\n",
    "predictions = model_5.predict(validation_data[predictors])\n",
    "predprob    = model_5.predict_proba(validation_data[predictors])[:,1]\n",
    "true_labels = validation_data[target].values\n",
    "\n",
    "print \"Accuracy : %.4g\" % metrics.accuracy_score(validation_data[target].values, predictions)\n",
    "print \"AUC Score (Train): %f\" % metrics.roc_auc_score(validation_data[target].values, predprob)"
   ]
  },
  {
   "cell_type": "markdown",
   "metadata": {},
   "source": [
    "**14.** Calculate the number of **false positives** made by the model. False positives: Loans that were actually risky but were predicted to be safe. These are much more expensive because it results in a risky loan being given. False positives are predictions where the model predicts +1 but the true label is -1."
   ]
  },
  {
   "cell_type": "code",
   "execution_count": 113,
   "metadata": {
    "collapsed": false
   },
   "outputs": [
    {
     "data": {
      "text/plain": [
       "1653"
      ]
     },
     "execution_count": 113,
     "metadata": {},
     "output_type": "execute_result"
    }
   ],
   "source": [
    "#np.sum([p == +1 and t == -1, for p in predictions, t in true_labels])\n",
    "# sum([p == +1 for p in predictions]) and sum([ t == -1 for t in true_labels])   <-- give 4672!\n",
    "false_positives = sum((predictions == +1) & (true_labels == -1))\n",
    "false_positives #1618  graphlab"
   ]
  },
  {
   "cell_type": "markdown",
   "metadata": {},
   "source": [
    "**Quiz question**: What is the number of **false positives** on the **validation_data**?"
   ]
  },
  {
   "cell_type": "markdown",
   "metadata": {},
   "source": [
    "**15.** Calculate the number of **false negatives** made by the model."
   ]
  },
  {
   "cell_type": "code",
   "execution_count": 114,
   "metadata": {
    "collapsed": false
   },
   "outputs": [
    {
     "data": {
      "text/plain": [
       "1491"
      ]
     },
     "execution_count": 114,
     "metadata": {},
     "output_type": "execute_result"
    }
   ],
   "source": [
    "false_negatives = sum((predictions == -1) & (true_labels == +1))\n",
    "false_negatives  #1463 graphlab"
   ]
  },
  {
   "cell_type": "markdown",
   "metadata": {},
   "source": [
    "## Comparison with decision trees\n",
    "\n",
    "In the earlier assignment, we saw that the prediction accuracy of the decision trees was around **0.64** (rounded). In this assignment, we saw that **model_5** has an accuracy of **0.67** (rounded).\n",
    "\n",
    "Here, we quantify the benefit of the extra 3% increase in accuracy of **model_5** in comparison with a single decision tree from the original decision tree assignment.\n",
    "\n",
    "As we explored in the earlier assignment, we calculated the cost of the mistakes made by the model. We again consider the same costs as follows:\n",
    "\n",
    "* **False negatives**: Assume a cost of \\$10,000 per false negative.\n",
    "* **False positives**: Assume a cost of \\$20,000 per false positive.\n",
    "\n",
    "Assume that the number of false positives and false negatives for the learned decision tree was\n",
    "\n",
    "* **False negatives**: 1936\n",
    "* **False positives**: 1503\n",
    "\n",
    "Using the costs defined above and the number of false positives and false negatives for the decision tree, we can calculate the total cost of the mistakes made by the decision tree model as follows:\n",
    "\n",
    "```\n",
    "cost = $10,000 * 1936  + $20,000 * 1503 = $49,420,000\n",
    "```\n",
    "\n",
    "The total cost of the mistakes of the model is $49.42M. That is a **lot of money**!.\n",
    "\n",
    "**16.** Calculate the cost of mistakes made by model_5 on the validation_data."
   ]
  },
  {
   "cell_type": "code",
   "execution_count": 115,
   "metadata": {
    "collapsed": false
   },
   "outputs": [
    {
     "name": "stdout",
     "output_type": "stream",
     "text": [
      "Total_cost for wrong predictions: $47970000.00\n"
     ]
    }
   ],
   "source": [
    "total_cost = 10000 * false_negatives + 20000 * false_positives\n",
    "print \"Total_cost for wrong predictions: $%.2f\" %total_cost  #$46990000.00 graphlab"
   ]
  },
  {
   "cell_type": "markdown",
   "metadata": {},
   "source": [
    "**Quiz Question**: Using the same costs of the false positives and false negatives, what is the cost of the mistakes made by the boosted tree model (**model_5**) as evaluated on the **validation_set**?"
   ]
  },
  {
   "cell_type": "markdown",
   "metadata": {},
   "source": [
    "**Reminder**: Compare the cost of the mistakes made by the boosted trees model with the decision tree model. The extra 3% improvement in prediction accuracy can translate to several million dollars!  And, it was so easy to get by simply boosting our decision trees."
   ]
  },
  {
   "cell_type": "markdown",
   "metadata": {},
   "source": [
    "## Most positive & negative loans.\n",
    "\n",
    "In this section, we will find the loans that are most likely to be predicted **safe**. We can do this in a few steps:\n",
    "\n",
    "* **Step 1**: Use the **model_5** (the model with 5 trees) and make **probability predictions** for all the loans in the **validation_data**.\n",
    "* **Step 2**: Similar to what we did in the very first assignment, add the probability predictions as a column called **predictions** into the validation_data.\n",
    "* **Step 3**: Sort the data (in descreasing order) by the probability predictions.\n",
    "\n",
    "Quick revision sorting\n",
    "\n",
    "*  DataFrame.sort(columns=None, axis=0, ascending=True, inplace=False, kind='quicksort', na_position='last', **kwargs)\n",
    "Sort DataFrame either by labels (along either axis) or by the values in column(s)\n",
    "\n",
    "*    columns : Column name(s) in frame. Accepts a column name or a list for a nested sort. A tuple will be interpreted as the levels of a multi-index.\n",
    "*    ascending : boolean or list, default True; Sort ascending vs. descending. Specify list for multiple sort orders\n",
    "*    axis : {0 or ‘index’, 1 or ‘columns’}, default 0,    Sort index/rows versus columns\n",
    "\n",
    "**17.** Start here with **Step 1** & **Step 2**. Make predictions using **model_5** for examples in the **validation_data**. Use `output_type = probability`."
   ]
  },
  {
   "cell_type": "code",
   "execution_count": 116,
   "metadata": {
    "collapsed": false
   },
   "outputs": [
    {
     "name": "stderr",
     "output_type": "stream",
     "text": [
      "/mnt/win-data/shared/stats-R/anaconda2/envs/conda_py2.7/lib/python2.7/site-packages/ipykernel/__main__.py:2: FutureWarning: sort(columns=....) is deprecated, use sort_values(by=.....)\n",
      "  from ipykernel import kernelapp as app\n"
     ]
    },
    {
     "data": {
      "text/plain": [
       "0    0.461922\n",
       "1    0.604084\n",
       "2    0.479872\n",
       "3    0.406924\n",
       "Name: predictions, dtype: float64"
      ]
     },
     "execution_count": 116,
     "metadata": {},
     "output_type": "execute_result"
    }
   ],
   "source": [
    "validation_data['predictions'] = model_5.predict_proba(validation_data[predictors])[:,1]\n",
    "validation_data.sort(columns='predictions', axis=0, ascending = False)\n",
    "validation_data['predictions'].head(4)"
   ]
  },
  {
   "cell_type": "markdown",
   "metadata": {},
   "source": [
    "**Checkpoint:** For each row, the probabilities should be a number in the range **[0, 1]**. We have provided a simple check here to make sure your answers are correct."
   ]
  },
  {
   "cell_type": "code",
   "execution_count": 117,
   "metadata": {
    "collapsed": false
   },
   "outputs": [
    {
     "name": "stdout",
     "output_type": "stream",
     "text": [
      "Your loans      :\n",
      "0    0.461922\n",
      "1    0.604084\n",
      "2    0.479872\n",
      "3    0.406924\n",
      "Name: predictions, dtype: float64\n",
      "\n",
      "Expected answer : [0.4492515948736132, 0.6119100103640573, 0.3835981314851436, 0.3693306705994325]\n"
     ]
    }
   ],
   "source": [
    "print \"Your loans      :\\n%s\\n\" % validation_data['predictions'].head(4)\n",
    "print \"Expected answer : %s\" % [0.4492515948736132, 0.6119100103640573,\n",
    "                                0.3835981314851436, 0.3693306705994325]"
   ]
  },
  {
   "cell_type": "markdown",
   "metadata": {},
   "source": [
    "**18.** Now, we are ready to go to **Step 3**. You can now use the `prediction` column to sort the loans in **validation_data** (in descending order) by prediction probability. Find the top 5 loans with the highest probability of being predicted as a **safe loan**."
   ]
  },
  {
   "cell_type": "code",
   "execution_count": 118,
   "metadata": {
    "collapsed": false
   },
   "outputs": [
    {
     "name": "stderr",
     "output_type": "stream",
     "text": [
      "/mnt/win-data/shared/stats-R/anaconda2/envs/conda_py2.7/lib/python2.7/site-packages/ipykernel/__main__.py:2: FutureWarning: sort(columns=....) is deprecated, use sort_values(by=.....)\n",
      "  from ipykernel import kernelapp as app\n"
     ]
    },
    {
     "data": {
      "text/plain": [
       "0    0.461922\n",
       "1    0.604084\n",
       "2    0.479872\n",
       "3    0.406924\n",
       "4    0.547199\n",
       "Name: predictions, dtype: float64"
      ]
     },
     "execution_count": 118,
     "metadata": {},
     "output_type": "execute_result"
    }
   ],
   "source": [
    "validation_data['predictions'] = model_5.predict_proba(validation_data[predictors])[:,1]\n",
    "validation_data.sort(columns='predictions', axis=0, ascending = False)\n",
    "validation_data['predictions'].head(5)"
   ]
  },
  {
   "cell_type": "markdown",
   "metadata": {},
   "source": [
    "** Quiz question**: What grades are the top 5 loans?\n",
    "\n",
    "**19.** Let us repeat this excercise to find the top 5 loans (in the **validation_data**) with the **lowest probability** of being predicted as a **safe loan**:"
   ]
  },
  {
   "cell_type": "code",
   "execution_count": 119,
   "metadata": {
    "collapsed": false
   },
   "outputs": [
    {
     "name": "stdout",
     "output_type": "stream",
     "text": [
      "      grade.A  grade.B  grade.C  grade.D  predictions\n",
      "9279        0        0        1        0     0.523047\n",
      "9280        1        0        0        0     0.579741\n",
      "9281        0        0        0        1     0.464690\n",
      "9282        0        1        0        0     0.477191\n",
      "9283        0        0        1        0     0.461922\n"
     ]
    }
   ],
   "source": [
    "print validation_data.tail(5)[ ['grade.A','grade.B','grade.C','grade.D','predictions'] ]"
   ]
  },
  {
   "cell_type": "markdown",
   "metadata": {},
   "source": [
    "**Checkpoint:** You should expect to see 5 loans with the grade ['**D**', '**C**', '**C**', '**C**', '**B**']."
   ]
  },
  {
   "cell_type": "markdown",
   "metadata": {},
   "source": [
    "## Effect of adding more trees"
   ]
  },
  {
   "cell_type": "markdown",
   "metadata": {},
   "source": [
    "**20.** In this assignment, we will train 5 different ensemble classifiers in the form of gradient boosted trees. We will train models with 10, 50, 100, 200, and 500 trees.  We use the **max_iterations** parameter in the boosted tree module. \n",
    "\n",
    "If using skit-learn, use the **n_estimators** parameter to control the number of trees. Remember to keep **max_depth = 6**.\n",
    "Let's get sarted with a model with **max_iterations = 10**:"
   ]
  },
  {
   "cell_type": "markdown",
   "metadata": {},
   "source": [
    "Now, train 5 models with **max_iterations** to be:\n",
    "* `max_iterations = 10`, \n",
    "* `max_iterations = 50`, \n",
    "* `max_iterations = 100`\n",
    "* `max_iterations = 200`\n",
    "* `max_iterations = 500`. \n",
    "\n",
    "Let us call these models **model_10**,**model_50**, **model_100**, **model_200**, and **model_500**. You can pass in `verbose=False` in order to suppress the printed output.\n",
    "\n",
    "In graphlab,  each iterations corresponds to adding a tree, so number of trees is controlled by max_iterations parameter, so max_iterations=10 corresponds to adding 10 trees, bit wierd!!!!\n",
    "\n",
    " sklearn uses n_estimators parameter to control the number of trees, so n_estimator=10 corresponds to adding 10 trees.\n",
    "\n",
    "**Warning:** This could take a couple of minutes to run."
   ]
  },
  {
   "cell_type": "code",
   "execution_count": 120,
   "metadata": {
    "collapsed": false
   },
   "outputs": [
    {
     "data": {
      "text/plain": [
       "GradientBoostingClassifier(init=None, learning_rate=0.1, loss='deviance',\n",
       "              max_depth=6, max_features=None, max_leaf_nodes=None,\n",
       "              min_samples_leaf=1, min_samples_split=2,\n",
       "              min_weight_fraction_leaf=0.0, n_estimators=500,\n",
       "              presort='auto', random_state=None, subsample=1.0, verbose=0,\n",
       "              warm_start=False)"
      ]
     },
     "execution_count": 120,
     "metadata": {},
     "output_type": "execute_result"
    }
   ],
   "source": [
    "model_10 = GradientBoostingClassifier(max_depth=6,n_estimators=10) #,random_state=10)\n",
    "model_10.fit(train_data[predictors], train_data[target])\n",
    "\n",
    "model_50 = GradientBoostingClassifier(max_depth=6,n_estimators=50) #,random_state=10)\n",
    "model_50.fit(train_data[predictors], train_data[target])\n",
    "\n",
    "model_100 = GradientBoostingClassifier(max_depth=6,n_estimators=100) #,random_state=10)\n",
    "model_100.fit(train_data[predictors], train_data[target])\n",
    "\n",
    "model_200 = GradientBoostingClassifier(max_depth=6,n_estimators=200) #,random_state=10)\n",
    "model_200.fit(train_data[predictors], train_data[target])\n",
    "\n",
    "model_500 = GradientBoostingClassifier(max_depth=6,n_estimators=500) #,random_state=10)\n",
    "model_500.fit(train_data[predictors], train_data[target])\n",
    "\n",
    "#\n",
    "#model_10 = graphlab.boosted_trees_classifier.create(train_data, validation_set=None, \n",
    "#        target = target, features = features, max_iterations = 10, verbose=False)"
   ]
  },
  {
   "cell_type": "markdown",
   "metadata": {},
   "source": [
    "## Compare accuracy on entire validation set"
   ]
  },
  {
   "cell_type": "markdown",
   "metadata": {},
   "source": [
    "**21.** Now we will compare the predicitve accuracy of our models on the validation set. Evaluate the **accuracy** of the 10, 50, 100, 200, and 500 tree models on the **validation_data**. Use the `.evaluate` method."
   ]
  },
  {
   "cell_type": "code",
   "execution_count": 135,
   "metadata": {
    "collapsed": false
   },
   "outputs": [
    {
     "name": "stdout",
     "output_type": "stream",
     "text": [
      "Validation data, accuracy model 10  : 0.6663\n",
      "Validation data, accuracy model 50  :0.6844\n",
      "Validation data, accuracy model 100 :0.6891\n",
      "Validation data, accuracy model 200 :0.6909\n",
      "Validation data, accuracy model 500 :0.6896\n",
      "Model: 0.666307626023\n",
      "Model: 0.684403274451\n",
      "Model: 0.689142610944\n",
      "Model: 0.690866006032\n",
      "Model: 0.689573459716\n"
     ]
    }
   ],
   "source": [
    "print \"Validation data, accuracy model 10  : %.4g\" \\\n",
    "%(metrics.accuracy_score(validation_data[target].values, \\\n",
    "   model_10.predict(validation_data[predictors])))\n",
    "\n",
    "print \"Validation data, accuracy model 50  :%.4g\" \\\n",
    "%(metrics.accuracy_score(validation_data[target].values, \\\n",
    "   model_50.predict(validation_data[predictors])))\n",
    "\n",
    "print \"Validation data, accuracy model 100 :%.4g\" \\\n",
    "%(metrics.accuracy_score(validation_data[target].values, \\\n",
    "   model_100.predict(validation_data[predictors])))\n",
    "\n",
    "print \"Validation data, accuracy model 200 :%.4g\" \\\n",
    "%(metrics.accuracy_score(validation_data[target].values, \\\n",
    "   model_200.predict(validation_data[predictors])))\n",
    "\n",
    "print \"Validation data, accuracy model 500 :%.4g\" \\\n",
    "%(metrics.accuracy_score(validation_data[target].values, \\\n",
    "   model_500.predict(validation_data[predictors])))\n",
    "\n",
    "for m in [model_10, model_50, model_100, model_200, model_500]:\n",
    "    print \"Model:\", metrics.accuracy_score(validation_data[target].values, \\\n",
    "             m.predict(validation_data[predictors]))"
   ]
  },
  {
   "cell_type": "code",
   "execution_count": 122,
   "metadata": {
    "collapsed": true
   },
   "outputs": [],
   "source": [
    "#Errors we got under graphlab\n",
    "#Validation data, classification error (model 10  : 0.672770357604\n",
    "#Validation data, classification error (model 50  : 0.690758293839\n",
    "#Validation data, classification error (model 100 : 0.691727703576\n",
    "#Validation data, classification error (model 200 : 0.684510986644\n",
    "#Validation data, classification error (model 500 : 0.671800947867"
   ]
  },
  {
   "cell_type": "markdown",
   "metadata": {},
   "source": [
    "**Quiz Question:** Which model has the **best** accuracy on the **validation_data**? model 10, gl gave model_500 \n",
    "\n",
    "**Quiz Question:** Is it always true that the model with the most trees will perform best on test data? No, in fact with sklearn, we see that validation errors increase as we overfit, as itr usually should. Graphlab errors are therefore bit confusing, as validation actually get lower as model gets more and more complex!!"
   ]
  },
  {
   "cell_type": "markdown",
   "metadata": {},
   "source": [
    "## Plot the training and validation error vs. number of trees"
   ]
  },
  {
   "cell_type": "markdown",
   "metadata": {},
   "source": [
    "Recall from the lecture that the classification error is defined as\n",
    "\n",
    "$$\n",
    "\\mbox{classification error} = 1 - \\mbox{accuracy} \n",
    "$$\n",
    "\n",
    "In this section, we will plot the **training and validation errors versus the number of trees** to get a sense of how these models are performing. We will compare the 10, 50, 100, 200, and 500 tree models. You will need [matplotlib](http://matplotlib.org/downloads.html) in order to visualize the plots. \n",
    "\n",
    "**22.** First, define a function to make the plots."
   ]
  },
  {
   "cell_type": "code",
   "execution_count": 123,
   "metadata": {
    "collapsed": true
   },
   "outputs": [],
   "source": [
    "import matplotlib.pyplot as plt\n",
    "%matplotlib inline\n",
    "\n",
    "def make_figure(dim, title, xlabel, ylabel, legend):\n",
    "    plt.rcParams['figure.figsize'] = dim\n",
    "    plt.title(title)\n",
    "    plt.xlabel(xlabel)\n",
    "    plt.ylabel(ylabel)\n",
    "    if legend is not None:\n",
    "        plt.legend(loc=legend, prop={'size':15})\n",
    "    plt.rcParams.update({'font.size': 16})\n",
    "    plt.tight_layout()"
   ]
  },
  {
   "cell_type": "markdown",
   "metadata": {},
   "source": [
    "In order to plot the classification errors (on the **train_data** and **validation_data**) versus the number of trees, we will need lists of these accuracies, which we get by applying the method `.evaluate`. \n",
    "\n",
    "**Steps to follow:**\n",
    "\n",
    "* **Step 1:** Calculate the classification error for model on the training data (**train_data**).\n",
    "* **Step 2:** Store the training errors into a list (called `training_errors`) that looks like this:\n",
    "```\n",
    "[train_err_10, train_err_50, ..., train_err_500]\n",
    "```\n",
    "* **Step 3:** Calculate the classification error of each model on the validation data (**validation_data**).\n",
    "* **Step 4:** Store the validation classification error into a list (called `validation_errors`) that looks like this:\n",
    "```\n",
    "[validation_err_10, validation_err_50, ..., validation_err_500]\n",
    "```\n",
    "Once that has been completed, the rest of the code should be able to evaluate correctly and generate the plot.\n",
    "\n",
    "\n",
    "**23.** Let us start with **Step 1**. Write code to compute the classification error on the **train_data** for models **model_10**, **model_50**, **model_100**, **model_200**, and **model_500**."
   ]
  },
  {
   "cell_type": "code",
   "execution_count": 142,
   "metadata": {
    "collapsed": false
   },
   "outputs": [],
   "source": [
    "train_err_10  = 1 - metrics.accuracy_score(train_data[target].values, \\\n",
    "   model_10.predict(train_data[predictors]))\n",
    "train_err_50  = 1 - metrics.accuracy_score(train_data[target].values, \\\n",
    "   model_50.predict(train_data[predictors]))\n",
    "train_err_100 = 1 - metrics.accuracy_score(train_data[target].values, \\\n",
    "   model_100.predict(train_data[predictors]))\n",
    "train_err_200 = 1 - metrics.accuracy_score(train_data[target].values, \\\n",
    "   model_200.predict(train_data[predictors]))\n",
    "train_err_500 = 1 - metrics.accuracy_score(train_data[target].values, \\\n",
    "   model_500.predict(train_data[predictors]))\n",
    "\n",
    "#print metrics.classification(train_data[target].values,model_500.predict(train_data[predictors]))"
   ]
  },
  {
   "cell_type": "markdown",
   "metadata": {},
   "source": [
    "**24.** Now, let us run **Step 2**. Save the training errors into a list called **training_errors**"
   ]
  },
  {
   "cell_type": "code",
   "execution_count": 143,
   "metadata": {
    "collapsed": false
   },
   "outputs": [
    {
     "name": "stdout",
     "output_type": "stream",
     "text": [
      "[0.32832692979392242, 0.28270506999113354, 0.25363389666568148, 0.21335876837099332, 0.13168005588543485]\n"
     ]
    }
   ],
   "source": [
    "training_errors = [train_err_10, train_err_50, train_err_100, train_err_200, train_err_500]\n",
    "\n",
    "#training_errors = []\n",
    "#for m in [model_10, model_50, model_100, model_200, model_500]:\n",
    "#    training_errors.append(round(1 - m.evaluate(train_data)['accuracy'],2))\n",
    "print training_errors\n",
    "\n"
   ]
  },
  {
   "cell_type": "markdown",
   "metadata": {},
   "source": [
    "**25.** Now, onto **Step 3**. Write code to compute the classification error on the **validation_data** for models **model_10**, **model_50**, **model_100**, **model_200**, and **model_500**."
   ]
  },
  {
   "cell_type": "code",
   "execution_count": 144,
   "metadata": {
    "collapsed": false
   },
   "outputs": [],
   "source": [
    "validation_err_10  = 1- metrics.accuracy_score(validation_data[target].values, \\\n",
    "   model_10.predict(validation_data[predictors]))\n",
    "validation_err_50  = 1- metrics.accuracy_score(validation_data[target].values, \\\n",
    "   model_50.predict(validation_data[predictors]))\n",
    "validation_err_100  = 1- metrics.accuracy_score(validation_data[target].values, \\\n",
    "   model_100.predict(validation_data[predictors]))\n",
    "validation_err_200  = 1- metrics.accuracy_score(validation_data[target].values, \\\n",
    "   model_200.predict(validation_data[predictors]))\n",
    "validation_err_500  = 1- metrics.accuracy_score(validation_data[target].values, \\\n",
    "   model_500.predict(validation_data[predictors]))"
   ]
  },
  {
   "cell_type": "markdown",
   "metadata": {},
   "source": [
    "**26.** Now, let us run **Step 4**. Save the training errors into a list called **validation_errors**"
   ]
  },
  {
   "cell_type": "code",
   "execution_count": 145,
   "metadata": {
    "collapsed": false
   },
   "outputs": [
    {
     "data": {
      "text/plain": [
       "[0.33369237397673412,\n",
       " 0.31559672554933216,\n",
       " 0.31085738905644122,\n",
       " 0.30913399396811714,\n",
       " 0.31042654028436023]"
      ]
     },
     "execution_count": 145,
     "metadata": {},
     "output_type": "execute_result"
    }
   ],
   "source": [
    "validation_errors = [validation_err_10, validation_err_50, validation_err_100, validation_err_200, validation_err_500]\n",
    "validation_errors"
   ]
  },
  {
   "cell_type": "markdown",
   "metadata": {},
   "source": [
    "**27.** Now, we will plot the **training_errors** and **validation_errors** versus the number of trees. We will compare the 10, 50, 100, 200, and 500 tree models. We provide some plotting code to visualize the plots within this notebook. \n",
    "\n",
    "**28.** Run the following code to visualize the plots."
   ]
  },
  {
   "cell_type": "code",
   "execution_count": 146,
   "metadata": {
    "collapsed": false,
    "scrolled": true
   },
   "outputs": [
    {
     "data": {
      "image/png": "[encoded data removed]",
      "text/plain": [
       "<matplotlib.figure.Figure at 0x7fb8100eff90>"
      ]
     },
     "metadata": {},
     "output_type": "display_data"
    }
   ],
   "source": [
    "plt.plot([10, 50, 100, 200, 500], training_errors, linewidth=4.0, label='Training error')\n",
    "plt.plot([10, 50, 100, 200, 500], validation_errors, linewidth=4.0, label='Validation error')\n",
    "\n",
    "make_figure(dim=(10,5), title='Error vs number of trees',\n",
    "            xlabel='Number of trees',\n",
    "            ylabel='Classification error',\n",
    "            legend='best')"
   ]
  },
  {
   "cell_type": "markdown",
   "metadata": {},
   "source": [
    "**Quiz question**: Does the training error reduce as the number of trees increases? Yes!\n",
    "\n",
    "**Quiz question**: Is it always true that the validation error will reduce as the number of trees increases? No."
   ]
  },
  {
   "cell_type": "code",
   "execution_count": null,
   "metadata": {
    "collapsed": true
   },
   "outputs": [],
   "source": []
  }
 ],
 "metadata": {
  "kernelspec": {
   "display_name": "Python 2",
   "language": "python",
   "name": "python2"
  },
  "language_info": {
   "codemirror_mode": {
    "name": "ipython",
    "version": 2
   },
   "file_extension": ".py",
   "mimetype": "text/x-python",
   "name": "python",
   "nbconvert_exporter": "python",
   "pygments_lexer": "ipython2",
   "version": "2.7.11"
  }
 },
 "nbformat": 4,
 "nbformat_minor": 0
}
